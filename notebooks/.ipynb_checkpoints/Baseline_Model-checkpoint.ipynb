{
 "cells": [
  {
   "cell_type": "code",
   "execution_count": 1,
   "id": "3c23ba6d-2162-4c97-8109-de0f8ad3c318",
   "metadata": {},
   "outputs": [],
   "source": [
    "import pandas as pd\n",
    "import seaborn as sns\n",
    "import matplotlib.pyplot as plt\n",
    "from sklearn.model_selection import train_test_split\n",
    "from sklearn.linear_model import LinearRegression\n",
    "from sklearn.ensemble import RandomForestRegressor"
   ]
  },
  {
   "cell_type": "code",
   "execution_count": 2,
   "id": "30507e0e-2763-4177-bf89-77a46bdac091",
   "metadata": {},
   "outputs": [],
   "source": [
    "df = pd.read_csv('../data/RtmSimulation_kickstart.csv', index_col= 0)"
   ]
  },
  {
   "cell_type": "code",
   "execution_count": 3,
   "id": "26ea02db-c048-4568-ae84-b550b0274314",
   "metadata": {},
   "outputs": [
    {
     "data": {
      "text/plain": [
       "(1000, 2114)"
      ]
     },
     "execution_count": 3,
     "metadata": {},
     "output_type": "execute_result"
    }
   ],
   "source": [
    "df.shape"
   ]
  },
  {
   "cell_type": "code",
   "execution_count": 4,
   "id": "d720388e-b235-4c6d-913b-1f8b70274c3d",
   "metadata": {},
   "outputs": [
    {
     "data": {
      "text/html": [
       "<div>\n",
       "<style scoped>\n",
       "    .dataframe tbody tr th:only-of-type {\n",
       "        vertical-align: middle;\n",
       "    }\n",
       "\n",
       "    .dataframe tbody tr th {\n",
       "        vertical-align: top;\n",
       "    }\n",
       "\n",
       "    .dataframe thead th {\n",
       "        text-align: right;\n",
       "    }\n",
       "</style>\n",
       "<table border=\"1\" class=\"dataframe\">\n",
       "  <thead>\n",
       "    <tr style=\"text-align: right;\">\n",
       "      <th></th>\n",
       "      <th>lai</th>\n",
       "      <th>wetness</th>\n",
       "      <th>treeSpecies</th>\n",
       "      <th>Sentinel_2A_492.4</th>\n",
       "      <th>Sentinel_2A_559.8</th>\n",
       "      <th>Sentinel_2A_664.6</th>\n",
       "      <th>Sentinel_2A_704.1</th>\n",
       "      <th>Sentinel_2A_740.5</th>\n",
       "      <th>Sentinel_2A_782.8</th>\n",
       "      <th>Sentinel_2A_832.8</th>\n",
       "      <th>...</th>\n",
       "      <th>w2491</th>\n",
       "      <th>w2492</th>\n",
       "      <th>w2493</th>\n",
       "      <th>w2494</th>\n",
       "      <th>w2495</th>\n",
       "      <th>w2496</th>\n",
       "      <th>w2497</th>\n",
       "      <th>w2498</th>\n",
       "      <th>w2499</th>\n",
       "      <th>w2500</th>\n",
       "    </tr>\n",
       "    <tr>\n",
       "      <th>id</th>\n",
       "      <th></th>\n",
       "      <th></th>\n",
       "      <th></th>\n",
       "      <th></th>\n",
       "      <th></th>\n",
       "      <th></th>\n",
       "      <th></th>\n",
       "      <th></th>\n",
       "      <th></th>\n",
       "      <th></th>\n",
       "      <th></th>\n",
       "      <th></th>\n",
       "      <th></th>\n",
       "      <th></th>\n",
       "      <th></th>\n",
       "      <th></th>\n",
       "      <th></th>\n",
       "      <th></th>\n",
       "      <th></th>\n",
       "      <th></th>\n",
       "      <th></th>\n",
       "    </tr>\n",
       "  </thead>\n",
       "  <tbody>\n",
       "    <tr>\n",
       "      <th>1</th>\n",
       "      <td>5.10</td>\n",
       "      <td>0.36</td>\n",
       "      <td>predominantly_pine</td>\n",
       "      <td>0.062092</td>\n",
       "      <td>0.131702</td>\n",
       "      <td>0.043197</td>\n",
       "      <td>0.177134</td>\n",
       "      <td>0.401750</td>\n",
       "      <td>0.458003</td>\n",
       "      <td>0.463287</td>\n",
       "      <td>...</td>\n",
       "      <td>0.037392</td>\n",
       "      <td>0.026100</td>\n",
       "      <td>0.033480</td>\n",
       "      <td>0.027219</td>\n",
       "      <td>0.033905</td>\n",
       "      <td>0.017797</td>\n",
       "      <td>0.038259</td>\n",
       "      <td>0.020111</td>\n",
       "      <td>0.027921</td>\n",
       "      <td>0.027520</td>\n",
       "    </tr>\n",
       "    <tr>\n",
       "      <th>2</th>\n",
       "      <td>5.34</td>\n",
       "      <td>0.47</td>\n",
       "      <td>predominantly_beech</td>\n",
       "      <td>0.052807</td>\n",
       "      <td>0.129987</td>\n",
       "      <td>0.043061</td>\n",
       "      <td>0.153641</td>\n",
       "      <td>0.407523</td>\n",
       "      <td>0.466853</td>\n",
       "      <td>0.477236</td>\n",
       "      <td>...</td>\n",
       "      <td>0.028002</td>\n",
       "      <td>0.030901</td>\n",
       "      <td>0.039650</td>\n",
       "      <td>0.029524</td>\n",
       "      <td>0.032461</td>\n",
       "      <td>0.030735</td>\n",
       "      <td>0.023527</td>\n",
       "      <td>0.029523</td>\n",
       "      <td>0.021542</td>\n",
       "      <td>0.026780</td>\n",
       "    </tr>\n",
       "    <tr>\n",
       "      <th>3</th>\n",
       "      <td>4.53</td>\n",
       "      <td>0.68</td>\n",
       "      <td>predominantly_pine</td>\n",
       "      <td>0.047937</td>\n",
       "      <td>0.139421</td>\n",
       "      <td>0.045780</td>\n",
       "      <td>0.157121</td>\n",
       "      <td>0.395428</td>\n",
       "      <td>0.441620</td>\n",
       "      <td>0.448626</td>\n",
       "      <td>...</td>\n",
       "      <td>0.015169</td>\n",
       "      <td>0.020155</td>\n",
       "      <td>0.025696</td>\n",
       "      <td>0.026504</td>\n",
       "      <td>0.028994</td>\n",
       "      <td>0.031195</td>\n",
       "      <td>0.025666</td>\n",
       "      <td>0.032225</td>\n",
       "      <td>0.016128</td>\n",
       "      <td>0.026495</td>\n",
       "    </tr>\n",
       "    <tr>\n",
       "      <th>4</th>\n",
       "      <td>2.10</td>\n",
       "      <td>0.80</td>\n",
       "      <td>predominantly_beech</td>\n",
       "      <td>0.045907</td>\n",
       "      <td>0.107761</td>\n",
       "      <td>0.033984</td>\n",
       "      <td>0.128237</td>\n",
       "      <td>0.341315</td>\n",
       "      <td>0.385277</td>\n",
       "      <td>0.382241</td>\n",
       "      <td>...</td>\n",
       "      <td>0.029487</td>\n",
       "      <td>0.031408</td>\n",
       "      <td>0.032888</td>\n",
       "      <td>0.029878</td>\n",
       "      <td>0.027617</td>\n",
       "      <td>0.034964</td>\n",
       "      <td>0.031996</td>\n",
       "      <td>0.032882</td>\n",
       "      <td>0.019543</td>\n",
       "      <td>0.121085</td>\n",
       "    </tr>\n",
       "    <tr>\n",
       "      <th>5</th>\n",
       "      <td>5.34</td>\n",
       "      <td>0.48</td>\n",
       "      <td>mixed</td>\n",
       "      <td>0.051712</td>\n",
       "      <td>0.136293</td>\n",
       "      <td>0.041502</td>\n",
       "      <td>0.167564</td>\n",
       "      <td>0.407460</td>\n",
       "      <td>0.454137</td>\n",
       "      <td>0.464966</td>\n",
       "      <td>...</td>\n",
       "      <td>0.024510</td>\n",
       "      <td>0.023754</td>\n",
       "      <td>0.026276</td>\n",
       "      <td>0.031367</td>\n",
       "      <td>0.039625</td>\n",
       "      <td>0.036997</td>\n",
       "      <td>0.022577</td>\n",
       "      <td>0.039619</td>\n",
       "      <td>0.031636</td>\n",
       "      <td>0.022230</td>\n",
       "    </tr>\n",
       "  </tbody>\n",
       "</table>\n",
       "<p>5 rows × 2114 columns</p>\n",
       "</div>"
      ],
      "text/plain": [
       "     lai  wetness          treeSpecies  Sentinel_2A_492.4  Sentinel_2A_559.8  \\\n",
       "id                                                                             \n",
       "1   5.10     0.36   predominantly_pine           0.062092           0.131702   \n",
       "2   5.34     0.47  predominantly_beech           0.052807           0.129987   \n",
       "3   4.53     0.68   predominantly_pine           0.047937           0.139421   \n",
       "4   2.10     0.80  predominantly_beech           0.045907           0.107761   \n",
       "5   5.34     0.48                mixed           0.051712           0.136293   \n",
       "\n",
       "    Sentinel_2A_664.6  Sentinel_2A_704.1  Sentinel_2A_740.5  \\\n",
       "id                                                            \n",
       "1            0.043197           0.177134           0.401750   \n",
       "2            0.043061           0.153641           0.407523   \n",
       "3            0.045780           0.157121           0.395428   \n",
       "4            0.033984           0.128237           0.341315   \n",
       "5            0.041502           0.167564           0.407460   \n",
       "\n",
       "    Sentinel_2A_782.8  Sentinel_2A_832.8  ...     w2491     w2492     w2493  \\\n",
       "id                                        ...                                 \n",
       "1            0.458003           0.463287  ...  0.037392  0.026100  0.033480   \n",
       "2            0.466853           0.477236  ...  0.028002  0.030901  0.039650   \n",
       "3            0.441620           0.448626  ...  0.015169  0.020155  0.025696   \n",
       "4            0.385277           0.382241  ...  0.029487  0.031408  0.032888   \n",
       "5            0.454137           0.464966  ...  0.024510  0.023754  0.026276   \n",
       "\n",
       "       w2494     w2495     w2496     w2497     w2498     w2499     w2500  \n",
       "id                                                                        \n",
       "1   0.027219  0.033905  0.017797  0.038259  0.020111  0.027921  0.027520  \n",
       "2   0.029524  0.032461  0.030735  0.023527  0.029523  0.021542  0.026780  \n",
       "3   0.026504  0.028994  0.031195  0.025666  0.032225  0.016128  0.026495  \n",
       "4   0.029878  0.027617  0.034964  0.031996  0.032882  0.019543  0.121085  \n",
       "5   0.031367  0.039625  0.036997  0.022577  0.039619  0.031636  0.022230  \n",
       "\n",
       "[5 rows x 2114 columns]"
      ]
     },
     "execution_count": 4,
     "metadata": {},
     "output_type": "execute_result"
    }
   ],
   "source": [
    "df.head()"
   ]
  },
  {
   "cell_type": "markdown",
   "id": "2adde278-8d83-4bde-95e2-788d05269ee1",
   "metadata": {},
   "source": [
    "## _Leave area index_ [`lai`] prediction"
   ]
  },
  {
   "cell_type": "markdown",
   "id": "ae900804-7b5e-4c13-a2bb-d2014673d10d",
   "metadata": {
    "tags": []
   },
   "source": [
    "### Baseline model"
   ]
  },
  {
   "cell_type": "markdown",
   "id": "95079633-3c68-4393-ae6b-f7ec7e1b900d",
   "metadata": {},
   "source": [
    "#### No feature engineering"
   ]
  },
  {
   "cell_type": "code",
   "execution_count": 5,
   "id": "54e5f062-d482-42ec-984a-7841da22efe3",
   "metadata": {},
   "outputs": [],
   "source": [
    "df.dropna(inplace = True)"
   ]
  },
  {
   "cell_type": "code",
   "execution_count": 6,
   "id": "bb907bbf-3513-4ac8-b5e8-067e828091c8",
   "metadata": {},
   "outputs": [
    {
     "data": {
      "text/plain": [
       "(935, 2114)"
      ]
     },
     "execution_count": 6,
     "metadata": {},
     "output_type": "execute_result"
    }
   ],
   "source": [
    "df.shape"
   ]
  },
  {
   "cell_type": "code",
   "execution_count": 7,
   "id": "60066064-8195-45fe-a82c-81a5da559075",
   "metadata": {},
   "outputs": [],
   "source": [
    "df.drop('treeSpecies', axis = 1, inplace= True)"
   ]
  },
  {
   "cell_type": "code",
   "execution_count": 8,
   "id": "8eefef40-f6d7-4fd2-95ca-d56854f62b6d",
   "metadata": {},
   "outputs": [
    {
     "data": {
      "text/html": [
       "<div>\n",
       "<style scoped>\n",
       "    .dataframe tbody tr th:only-of-type {\n",
       "        vertical-align: middle;\n",
       "    }\n",
       "\n",
       "    .dataframe tbody tr th {\n",
       "        vertical-align: top;\n",
       "    }\n",
       "\n",
       "    .dataframe thead th {\n",
       "        text-align: right;\n",
       "    }\n",
       "</style>\n",
       "<table border=\"1\" class=\"dataframe\">\n",
       "  <thead>\n",
       "    <tr style=\"text-align: right;\">\n",
       "      <th></th>\n",
       "      <th>lai</th>\n",
       "      <th>wetness</th>\n",
       "      <th>Sentinel_2A_492.4</th>\n",
       "      <th>Sentinel_2A_559.8</th>\n",
       "      <th>Sentinel_2A_664.6</th>\n",
       "      <th>Sentinel_2A_704.1</th>\n",
       "      <th>Sentinel_2A_740.5</th>\n",
       "      <th>Sentinel_2A_782.8</th>\n",
       "      <th>Sentinel_2A_832.8</th>\n",
       "      <th>Sentinel_2A_864.7</th>\n",
       "      <th>...</th>\n",
       "      <th>w2491</th>\n",
       "      <th>w2492</th>\n",
       "      <th>w2493</th>\n",
       "      <th>w2494</th>\n",
       "      <th>w2495</th>\n",
       "      <th>w2496</th>\n",
       "      <th>w2497</th>\n",
       "      <th>w2498</th>\n",
       "      <th>w2499</th>\n",
       "      <th>w2500</th>\n",
       "    </tr>\n",
       "    <tr>\n",
       "      <th>id</th>\n",
       "      <th></th>\n",
       "      <th></th>\n",
       "      <th></th>\n",
       "      <th></th>\n",
       "      <th></th>\n",
       "      <th></th>\n",
       "      <th></th>\n",
       "      <th></th>\n",
       "      <th></th>\n",
       "      <th></th>\n",
       "      <th></th>\n",
       "      <th></th>\n",
       "      <th></th>\n",
       "      <th></th>\n",
       "      <th></th>\n",
       "      <th></th>\n",
       "      <th></th>\n",
       "      <th></th>\n",
       "      <th></th>\n",
       "      <th></th>\n",
       "      <th></th>\n",
       "    </tr>\n",
       "  </thead>\n",
       "  <tbody>\n",
       "    <tr>\n",
       "      <th>1</th>\n",
       "      <td>5.10</td>\n",
       "      <td>0.36</td>\n",
       "      <td>0.062092</td>\n",
       "      <td>0.131702</td>\n",
       "      <td>0.043197</td>\n",
       "      <td>0.177134</td>\n",
       "      <td>0.401750</td>\n",
       "      <td>0.458003</td>\n",
       "      <td>0.463287</td>\n",
       "      <td>0.465697</td>\n",
       "      <td>...</td>\n",
       "      <td>0.037392</td>\n",
       "      <td>0.026100</td>\n",
       "      <td>0.033480</td>\n",
       "      <td>0.027219</td>\n",
       "      <td>0.033905</td>\n",
       "      <td>0.017797</td>\n",
       "      <td>0.038259</td>\n",
       "      <td>0.020111</td>\n",
       "      <td>0.027921</td>\n",
       "      <td>0.027520</td>\n",
       "    </tr>\n",
       "    <tr>\n",
       "      <th>2</th>\n",
       "      <td>5.34</td>\n",
       "      <td>0.47</td>\n",
       "      <td>0.052807</td>\n",
       "      <td>0.129987</td>\n",
       "      <td>0.043061</td>\n",
       "      <td>0.153641</td>\n",
       "      <td>0.407523</td>\n",
       "      <td>0.466853</td>\n",
       "      <td>0.477236</td>\n",
       "      <td>0.469157</td>\n",
       "      <td>...</td>\n",
       "      <td>0.028002</td>\n",
       "      <td>0.030901</td>\n",
       "      <td>0.039650</td>\n",
       "      <td>0.029524</td>\n",
       "      <td>0.032461</td>\n",
       "      <td>0.030735</td>\n",
       "      <td>0.023527</td>\n",
       "      <td>0.029523</td>\n",
       "      <td>0.021542</td>\n",
       "      <td>0.026780</td>\n",
       "    </tr>\n",
       "    <tr>\n",
       "      <th>3</th>\n",
       "      <td>4.53</td>\n",
       "      <td>0.68</td>\n",
       "      <td>0.047937</td>\n",
       "      <td>0.139421</td>\n",
       "      <td>0.045780</td>\n",
       "      <td>0.157121</td>\n",
       "      <td>0.395428</td>\n",
       "      <td>0.441620</td>\n",
       "      <td>0.448626</td>\n",
       "      <td>0.448503</td>\n",
       "      <td>...</td>\n",
       "      <td>0.015169</td>\n",
       "      <td>0.020155</td>\n",
       "      <td>0.025696</td>\n",
       "      <td>0.026504</td>\n",
       "      <td>0.028994</td>\n",
       "      <td>0.031195</td>\n",
       "      <td>0.025666</td>\n",
       "      <td>0.032225</td>\n",
       "      <td>0.016128</td>\n",
       "      <td>0.026495</td>\n",
       "    </tr>\n",
       "    <tr>\n",
       "      <th>4</th>\n",
       "      <td>2.10</td>\n",
       "      <td>0.80</td>\n",
       "      <td>0.045907</td>\n",
       "      <td>0.107761</td>\n",
       "      <td>0.033984</td>\n",
       "      <td>0.128237</td>\n",
       "      <td>0.341315</td>\n",
       "      <td>0.385277</td>\n",
       "      <td>0.382241</td>\n",
       "      <td>0.380013</td>\n",
       "      <td>...</td>\n",
       "      <td>0.029487</td>\n",
       "      <td>0.031408</td>\n",
       "      <td>0.032888</td>\n",
       "      <td>0.029878</td>\n",
       "      <td>0.027617</td>\n",
       "      <td>0.034964</td>\n",
       "      <td>0.031996</td>\n",
       "      <td>0.032882</td>\n",
       "      <td>0.019543</td>\n",
       "      <td>0.121085</td>\n",
       "    </tr>\n",
       "    <tr>\n",
       "      <th>5</th>\n",
       "      <td>5.34</td>\n",
       "      <td>0.48</td>\n",
       "      <td>0.051712</td>\n",
       "      <td>0.136293</td>\n",
       "      <td>0.041502</td>\n",
       "      <td>0.167564</td>\n",
       "      <td>0.407460</td>\n",
       "      <td>0.454137</td>\n",
       "      <td>0.464966</td>\n",
       "      <td>0.459594</td>\n",
       "      <td>...</td>\n",
       "      <td>0.024510</td>\n",
       "      <td>0.023754</td>\n",
       "      <td>0.026276</td>\n",
       "      <td>0.031367</td>\n",
       "      <td>0.039625</td>\n",
       "      <td>0.036997</td>\n",
       "      <td>0.022577</td>\n",
       "      <td>0.039619</td>\n",
       "      <td>0.031636</td>\n",
       "      <td>0.022230</td>\n",
       "    </tr>\n",
       "  </tbody>\n",
       "</table>\n",
       "<p>5 rows × 2113 columns</p>\n",
       "</div>"
      ],
      "text/plain": [
       "     lai  wetness  Sentinel_2A_492.4  Sentinel_2A_559.8  Sentinel_2A_664.6  \\\n",
       "id                                                                           \n",
       "1   5.10     0.36           0.062092           0.131702           0.043197   \n",
       "2   5.34     0.47           0.052807           0.129987           0.043061   \n",
       "3   4.53     0.68           0.047937           0.139421           0.045780   \n",
       "4   2.10     0.80           0.045907           0.107761           0.033984   \n",
       "5   5.34     0.48           0.051712           0.136293           0.041502   \n",
       "\n",
       "    Sentinel_2A_704.1  Sentinel_2A_740.5  Sentinel_2A_782.8  \\\n",
       "id                                                            \n",
       "1            0.177134           0.401750           0.458003   \n",
       "2            0.153641           0.407523           0.466853   \n",
       "3            0.157121           0.395428           0.441620   \n",
       "4            0.128237           0.341315           0.385277   \n",
       "5            0.167564           0.407460           0.454137   \n",
       "\n",
       "    Sentinel_2A_832.8  Sentinel_2A_864.7  ...     w2491     w2492     w2493  \\\n",
       "id                                        ...                                 \n",
       "1            0.463287           0.465697  ...  0.037392  0.026100  0.033480   \n",
       "2            0.477236           0.469157  ...  0.028002  0.030901  0.039650   \n",
       "3            0.448626           0.448503  ...  0.015169  0.020155  0.025696   \n",
       "4            0.382241           0.380013  ...  0.029487  0.031408  0.032888   \n",
       "5            0.464966           0.459594  ...  0.024510  0.023754  0.026276   \n",
       "\n",
       "       w2494     w2495     w2496     w2497     w2498     w2499     w2500  \n",
       "id                                                                        \n",
       "1   0.027219  0.033905  0.017797  0.038259  0.020111  0.027921  0.027520  \n",
       "2   0.029524  0.032461  0.030735  0.023527  0.029523  0.021542  0.026780  \n",
       "3   0.026504  0.028994  0.031195  0.025666  0.032225  0.016128  0.026495  \n",
       "4   0.029878  0.027617  0.034964  0.031996  0.032882  0.019543  0.121085  \n",
       "5   0.031367  0.039625  0.036997  0.022577  0.039619  0.031636  0.022230  \n",
       "\n",
       "[5 rows x 2113 columns]"
      ]
     },
     "execution_count": 8,
     "metadata": {},
     "output_type": "execute_result"
    }
   ],
   "source": [
    "df.head()"
   ]
  },
  {
   "cell_type": "markdown",
   "id": "cfa1a5ad-21f7-4cd7-a4f4-a876ba1b1626",
   "metadata": {},
   "source": [
    "#### Use only `wetness` and `Sentinel_2A_....` columns"
   ]
  },
  {
   "cell_type": "code",
   "execution_count": 9,
   "id": "5e92afed-d9a0-4d43-b06b-483f2fc352b7",
   "metadata": {},
   "outputs": [
    {
     "data": {
      "text/plain": [
       "Index(['wetness', 'Sentinel_2A_492.4', 'Sentinel_2A_559.8',\n",
       "       'Sentinel_2A_664.6', 'Sentinel_2A_704.1', 'Sentinel_2A_740.5',\n",
       "       'Sentinel_2A_782.8', 'Sentinel_2A_832.8', 'Sentinel_2A_864.7',\n",
       "       'Sentinel_2A_1613.7', 'Sentinel_2A_2202.4'],\n",
       "      dtype='object')"
      ]
     },
     "execution_count": 9,
     "metadata": {},
     "output_type": "execute_result"
    }
   ],
   "source": [
    "df.columns[1:12]"
   ]
  },
  {
   "cell_type": "code",
   "execution_count": 10,
   "id": "2a1ed98a-b9a8-4600-b526-e451b98cea54",
   "metadata": {},
   "outputs": [],
   "source": [
    "y = df['lai']"
   ]
  },
  {
   "cell_type": "code",
   "execution_count": 11,
   "id": "237e2cfd-c066-49cd-ba18-83dd959d846c",
   "metadata": {},
   "outputs": [],
   "source": [
    "X = df.iloc[:,1:12]"
   ]
  },
  {
   "cell_type": "code",
   "execution_count": 12,
   "id": "9ec1cc28-9bb6-4a50-87a5-ae1d613321a1",
   "metadata": {},
   "outputs": [
    {
     "data": {
      "text/plain": [
       "Index(['wetness', 'Sentinel_2A_492.4', 'Sentinel_2A_559.8',\n",
       "       'Sentinel_2A_664.6', 'Sentinel_2A_704.1', 'Sentinel_2A_740.5',\n",
       "       'Sentinel_2A_782.8', 'Sentinel_2A_832.8', 'Sentinel_2A_864.7',\n",
       "       'Sentinel_2A_1613.7', 'Sentinel_2A_2202.4'],\n",
       "      dtype='object')"
      ]
     },
     "execution_count": 12,
     "metadata": {},
     "output_type": "execute_result"
    }
   ],
   "source": [
    "X.columns"
   ]
  },
  {
   "cell_type": "markdown",
   "id": "bda6322e-af21-43da-aedc-c390d1dbf503",
   "metadata": {},
   "source": [
    "#### Simple regression models, no hyperparameter optimization"
   ]
  },
  {
   "cell_type": "code",
   "execution_count": 13,
   "id": "64dcec46-44fa-471c-b7c2-76d5cdda387a",
   "metadata": {},
   "outputs": [],
   "source": [
    "X_train, X_test, y_train, y_test = train_test_split(X,y, random_state=42)"
   ]
  },
  {
   "cell_type": "markdown",
   "id": "dc568442-ccb7-4ff7-a199-95467cd1f698",
   "metadata": {},
   "source": [
    "##### Linear Regression"
   ]
  },
  {
   "cell_type": "code",
   "execution_count": 14,
   "id": "e2fe3c14-e047-4dc2-9ef7-092581bbd99d",
   "metadata": {},
   "outputs": [],
   "source": [
    "m = LinearRegression()"
   ]
  },
  {
   "cell_type": "code",
   "execution_count": 15,
   "id": "0f349985-0d37-43a5-9d7a-be9f61973b1f",
   "metadata": {},
   "outputs": [
    {
     "data": {
      "text/html": [
       "<style>#sk-container-id-1 {color: black;background-color: white;}#sk-container-id-1 pre{padding: 0;}#sk-container-id-1 div.sk-toggleable {background-color: white;}#sk-container-id-1 label.sk-toggleable__label {cursor: pointer;display: block;width: 100%;margin-bottom: 0;padding: 0.3em;box-sizing: border-box;text-align: center;}#sk-container-id-1 label.sk-toggleable__label-arrow:before {content: \"▸\";float: left;margin-right: 0.25em;color: #696969;}#sk-container-id-1 label.sk-toggleable__label-arrow:hover:before {color: black;}#sk-container-id-1 div.sk-estimator:hover label.sk-toggleable__label-arrow:before {color: black;}#sk-container-id-1 div.sk-toggleable__content {max-height: 0;max-width: 0;overflow: hidden;text-align: left;background-color: #f0f8ff;}#sk-container-id-1 div.sk-toggleable__content pre {margin: 0.2em;color: black;border-radius: 0.25em;background-color: #f0f8ff;}#sk-container-id-1 input.sk-toggleable__control:checked~div.sk-toggleable__content {max-height: 200px;max-width: 100%;overflow: auto;}#sk-container-id-1 input.sk-toggleable__control:checked~label.sk-toggleable__label-arrow:before {content: \"▾\";}#sk-container-id-1 div.sk-estimator input.sk-toggleable__control:checked~label.sk-toggleable__label {background-color: #d4ebff;}#sk-container-id-1 div.sk-label input.sk-toggleable__control:checked~label.sk-toggleable__label {background-color: #d4ebff;}#sk-container-id-1 input.sk-hidden--visually {border: 0;clip: rect(1px 1px 1px 1px);clip: rect(1px, 1px, 1px, 1px);height: 1px;margin: -1px;overflow: hidden;padding: 0;position: absolute;width: 1px;}#sk-container-id-1 div.sk-estimator {font-family: monospace;background-color: #f0f8ff;border: 1px dotted black;border-radius: 0.25em;box-sizing: border-box;margin-bottom: 0.5em;}#sk-container-id-1 div.sk-estimator:hover {background-color: #d4ebff;}#sk-container-id-1 div.sk-parallel-item::after {content: \"\";width: 100%;border-bottom: 1px solid gray;flex-grow: 1;}#sk-container-id-1 div.sk-label:hover label.sk-toggleable__label {background-color: #d4ebff;}#sk-container-id-1 div.sk-serial::before {content: \"\";position: absolute;border-left: 1px solid gray;box-sizing: border-box;top: 0;bottom: 0;left: 50%;z-index: 0;}#sk-container-id-1 div.sk-serial {display: flex;flex-direction: column;align-items: center;background-color: white;padding-right: 0.2em;padding-left: 0.2em;position: relative;}#sk-container-id-1 div.sk-item {position: relative;z-index: 1;}#sk-container-id-1 div.sk-parallel {display: flex;align-items: stretch;justify-content: center;background-color: white;position: relative;}#sk-container-id-1 div.sk-item::before, #sk-container-id-1 div.sk-parallel-item::before {content: \"\";position: absolute;border-left: 1px solid gray;box-sizing: border-box;top: 0;bottom: 0;left: 50%;z-index: -1;}#sk-container-id-1 div.sk-parallel-item {display: flex;flex-direction: column;z-index: 1;position: relative;background-color: white;}#sk-container-id-1 div.sk-parallel-item:first-child::after {align-self: flex-end;width: 50%;}#sk-container-id-1 div.sk-parallel-item:last-child::after {align-self: flex-start;width: 50%;}#sk-container-id-1 div.sk-parallel-item:only-child::after {width: 0;}#sk-container-id-1 div.sk-dashed-wrapped {border: 1px dashed gray;margin: 0 0.4em 0.5em 0.4em;box-sizing: border-box;padding-bottom: 0.4em;background-color: white;}#sk-container-id-1 div.sk-label label {font-family: monospace;font-weight: bold;display: inline-block;line-height: 1.2em;}#sk-container-id-1 div.sk-label-container {text-align: center;}#sk-container-id-1 div.sk-container {/* jupyter's `normalize.less` sets `[hidden] { display: none; }` but bootstrap.min.css set `[hidden] { display: none !important; }` so we also need the `!important` here to be able to override the default hidden behavior on the sphinx rendered scikit-learn.org. See: https://github.com/scikit-learn/scikit-learn/issues/21755 */display: inline-block !important;position: relative;}#sk-container-id-1 div.sk-text-repr-fallback {display: none;}</style><div id=\"sk-container-id-1\" class=\"sk-top-container\"><div class=\"sk-text-repr-fallback\"><pre>LinearRegression()</pre><b>In a Jupyter environment, please rerun this cell to show the HTML representation or trust the notebook. <br />On GitHub, the HTML representation is unable to render, please try loading this page with nbviewer.org.</b></div><div class=\"sk-container\" hidden><div class=\"sk-item\"><div class=\"sk-estimator sk-toggleable\"><input class=\"sk-toggleable__control sk-hidden--visually\" id=\"sk-estimator-id-1\" type=\"checkbox\" checked><label for=\"sk-estimator-id-1\" class=\"sk-toggleable__label sk-toggleable__label-arrow\">LinearRegression</label><div class=\"sk-toggleable__content\"><pre>LinearRegression()</pre></div></div></div></div></div>"
      ],
      "text/plain": [
       "LinearRegression()"
      ]
     },
     "execution_count": 15,
     "metadata": {},
     "output_type": "execute_result"
    }
   ],
   "source": [
    "m.fit(X_train, y_train)"
   ]
  },
  {
   "cell_type": "code",
   "execution_count": 16,
   "id": "c4b502e8-69d7-4b8c-ac7e-921eb4d736d9",
   "metadata": {},
   "outputs": [
    {
     "data": {
      "text/plain": [
       "0.5089986581328299"
      ]
     },
     "execution_count": 16,
     "metadata": {},
     "output_type": "execute_result"
    }
   ],
   "source": [
    "m.score(X_train, y_train)"
   ]
  },
  {
   "cell_type": "code",
   "execution_count": 17,
   "id": "e70f88c0-ac81-43d6-89e2-5b90e1ecebee",
   "metadata": {},
   "outputs": [
    {
     "data": {
      "text/plain": [
       "0.515466773059854"
      ]
     },
     "execution_count": 17,
     "metadata": {},
     "output_type": "execute_result"
    }
   ],
   "source": [
    "m.score(X_test, y_test)"
   ]
  },
  {
   "cell_type": "markdown",
   "id": "951f0f8c-3686-4a9b-b43b-565ed1c3d242",
   "metadata": {},
   "source": [
    "##### Random Forest Regressor"
   ]
  },
  {
   "cell_type": "code",
   "execution_count": 18,
   "id": "00e16942-0dfe-4a28-b2f9-73d323ef51df",
   "metadata": {},
   "outputs": [],
   "source": [
    "rf = RandomForestRegressor()"
   ]
  },
  {
   "cell_type": "code",
   "execution_count": 19,
   "id": "8e8df1cb-68ff-4481-8eba-f07394ddc9ed",
   "metadata": {},
   "outputs": [
    {
     "data": {
      "text/html": [
       "<style>#sk-container-id-2 {color: black;background-color: white;}#sk-container-id-2 pre{padding: 0;}#sk-container-id-2 div.sk-toggleable {background-color: white;}#sk-container-id-2 label.sk-toggleable__label {cursor: pointer;display: block;width: 100%;margin-bottom: 0;padding: 0.3em;box-sizing: border-box;text-align: center;}#sk-container-id-2 label.sk-toggleable__label-arrow:before {content: \"▸\";float: left;margin-right: 0.25em;color: #696969;}#sk-container-id-2 label.sk-toggleable__label-arrow:hover:before {color: black;}#sk-container-id-2 div.sk-estimator:hover label.sk-toggleable__label-arrow:before {color: black;}#sk-container-id-2 div.sk-toggleable__content {max-height: 0;max-width: 0;overflow: hidden;text-align: left;background-color: #f0f8ff;}#sk-container-id-2 div.sk-toggleable__content pre {margin: 0.2em;color: black;border-radius: 0.25em;background-color: #f0f8ff;}#sk-container-id-2 input.sk-toggleable__control:checked~div.sk-toggleable__content {max-height: 200px;max-width: 100%;overflow: auto;}#sk-container-id-2 input.sk-toggleable__control:checked~label.sk-toggleable__label-arrow:before {content: \"▾\";}#sk-container-id-2 div.sk-estimator input.sk-toggleable__control:checked~label.sk-toggleable__label {background-color: #d4ebff;}#sk-container-id-2 div.sk-label input.sk-toggleable__control:checked~label.sk-toggleable__label {background-color: #d4ebff;}#sk-container-id-2 input.sk-hidden--visually {border: 0;clip: rect(1px 1px 1px 1px);clip: rect(1px, 1px, 1px, 1px);height: 1px;margin: -1px;overflow: hidden;padding: 0;position: absolute;width: 1px;}#sk-container-id-2 div.sk-estimator {font-family: monospace;background-color: #f0f8ff;border: 1px dotted black;border-radius: 0.25em;box-sizing: border-box;margin-bottom: 0.5em;}#sk-container-id-2 div.sk-estimator:hover {background-color: #d4ebff;}#sk-container-id-2 div.sk-parallel-item::after {content: \"\";width: 100%;border-bottom: 1px solid gray;flex-grow: 1;}#sk-container-id-2 div.sk-label:hover label.sk-toggleable__label {background-color: #d4ebff;}#sk-container-id-2 div.sk-serial::before {content: \"\";position: absolute;border-left: 1px solid gray;box-sizing: border-box;top: 0;bottom: 0;left: 50%;z-index: 0;}#sk-container-id-2 div.sk-serial {display: flex;flex-direction: column;align-items: center;background-color: white;padding-right: 0.2em;padding-left: 0.2em;position: relative;}#sk-container-id-2 div.sk-item {position: relative;z-index: 1;}#sk-container-id-2 div.sk-parallel {display: flex;align-items: stretch;justify-content: center;background-color: white;position: relative;}#sk-container-id-2 div.sk-item::before, #sk-container-id-2 div.sk-parallel-item::before {content: \"\";position: absolute;border-left: 1px solid gray;box-sizing: border-box;top: 0;bottom: 0;left: 50%;z-index: -1;}#sk-container-id-2 div.sk-parallel-item {display: flex;flex-direction: column;z-index: 1;position: relative;background-color: white;}#sk-container-id-2 div.sk-parallel-item:first-child::after {align-self: flex-end;width: 50%;}#sk-container-id-2 div.sk-parallel-item:last-child::after {align-self: flex-start;width: 50%;}#sk-container-id-2 div.sk-parallel-item:only-child::after {width: 0;}#sk-container-id-2 div.sk-dashed-wrapped {border: 1px dashed gray;margin: 0 0.4em 0.5em 0.4em;box-sizing: border-box;padding-bottom: 0.4em;background-color: white;}#sk-container-id-2 div.sk-label label {font-family: monospace;font-weight: bold;display: inline-block;line-height: 1.2em;}#sk-container-id-2 div.sk-label-container {text-align: center;}#sk-container-id-2 div.sk-container {/* jupyter's `normalize.less` sets `[hidden] { display: none; }` but bootstrap.min.css set `[hidden] { display: none !important; }` so we also need the `!important` here to be able to override the default hidden behavior on the sphinx rendered scikit-learn.org. See: https://github.com/scikit-learn/scikit-learn/issues/21755 */display: inline-block !important;position: relative;}#sk-container-id-2 div.sk-text-repr-fallback {display: none;}</style><div id=\"sk-container-id-2\" class=\"sk-top-container\"><div class=\"sk-text-repr-fallback\"><pre>RandomForestRegressor()</pre><b>In a Jupyter environment, please rerun this cell to show the HTML representation or trust the notebook. <br />On GitHub, the HTML representation is unable to render, please try loading this page with nbviewer.org.</b></div><div class=\"sk-container\" hidden><div class=\"sk-item\"><div class=\"sk-estimator sk-toggleable\"><input class=\"sk-toggleable__control sk-hidden--visually\" id=\"sk-estimator-id-2\" type=\"checkbox\" checked><label for=\"sk-estimator-id-2\" class=\"sk-toggleable__label sk-toggleable__label-arrow\">RandomForestRegressor</label><div class=\"sk-toggleable__content\"><pre>RandomForestRegressor()</pre></div></div></div></div></div>"
      ],
      "text/plain": [
       "RandomForestRegressor()"
      ]
     },
     "execution_count": 19,
     "metadata": {},
     "output_type": "execute_result"
    }
   ],
   "source": [
    "rf.fit(X_train, y_train)"
   ]
  },
  {
   "cell_type": "code",
   "execution_count": 20,
   "id": "1a7d29ae-3d1d-47a1-9f89-64052eee6bf0",
   "metadata": {},
   "outputs": [
    {
     "data": {
      "text/plain": [
       "0.978384523702237"
      ]
     },
     "execution_count": 20,
     "metadata": {},
     "output_type": "execute_result"
    }
   ],
   "source": [
    "rf.score(X_train, y_train)"
   ]
  },
  {
   "cell_type": "code",
   "execution_count": 21,
   "id": "61349e13-b0b6-46ef-ac29-08d0accb3167",
   "metadata": {},
   "outputs": [
    {
     "data": {
      "text/plain": [
       "0.8382503784504143"
      ]
     },
     "execution_count": 21,
     "metadata": {},
     "output_type": "execute_result"
    }
   ],
   "source": [
    "rf.score(X_test, y_test)"
   ]
  }
 ],
 "metadata": {
  "kernelspec": {
   "display_name": "Python 3 (ipykernel)",
   "language": "python",
   "name": "python3"
  },
  "language_info": {
   "codemirror_mode": {
    "name": "ipython",
    "version": 3
   },
   "file_extension": ".py",
   "mimetype": "text/x-python",
   "name": "python",
   "nbconvert_exporter": "python",
   "pygments_lexer": "ipython3",
   "version": "3.9.16"
  }
 },
 "nbformat": 4,
 "nbformat_minor": 5
}
